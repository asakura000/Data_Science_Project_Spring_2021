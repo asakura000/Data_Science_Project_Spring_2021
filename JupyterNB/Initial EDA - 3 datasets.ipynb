{
 "cells": [
  {
   "cell_type": "code",
   "execution_count": 153,
   "metadata": {},
   "outputs": [],
   "source": [
    "import pandas as pd"
   ]
  },
  {
   "cell_type": "markdown",
   "metadata": {},
   "source": [
    "# Data Set  1:\n",
    "collection of tweets labeled as 0: -> does not contain hate speech, 1-> contains hate speech\n",
    "\n",
    "\n",
    "https://www.kaggle.com/arkhoshghalb/twitter-sentiment-analysis-hatred-speech"
   ]
  },
  {
   "cell_type": "code",
   "execution_count": 154,
   "metadata": {},
   "outputs": [],
   "source": [
    "hsp_1 = pd.read_csv('hate_Sp_train.csv')"
   ]
  },
  {
   "cell_type": "code",
   "execution_count": 155,
   "metadata": {},
   "outputs": [
    {
     "data": {
      "text/html": [
       "<div>\n",
       "<style scoped>\n",
       "    .dataframe tbody tr th:only-of-type {\n",
       "        vertical-align: middle;\n",
       "    }\n",
       "\n",
       "    .dataframe tbody tr th {\n",
       "        vertical-align: top;\n",
       "    }\n",
       "\n",
       "    .dataframe thead th {\n",
       "        text-align: right;\n",
       "    }\n",
       "</style>\n",
       "<table border=\"1\" class=\"dataframe\">\n",
       "  <thead>\n",
       "    <tr style=\"text-align: right;\">\n",
       "      <th></th>\n",
       "      <th>id</th>\n",
       "      <th>label</th>\n",
       "      <th>tweet</th>\n",
       "    </tr>\n",
       "  </thead>\n",
       "  <tbody>\n",
       "    <tr>\n",
       "      <th>0</th>\n",
       "      <td>1</td>\n",
       "      <td>0</td>\n",
       "      <td>@user when a father is dysfunctional and is s...</td>\n",
       "    </tr>\n",
       "    <tr>\n",
       "      <th>1</th>\n",
       "      <td>2</td>\n",
       "      <td>0</td>\n",
       "      <td>@user @user thanks for #lyft credit i can't us...</td>\n",
       "    </tr>\n",
       "    <tr>\n",
       "      <th>2</th>\n",
       "      <td>3</td>\n",
       "      <td>0</td>\n",
       "      <td>bihday your majesty</td>\n",
       "    </tr>\n",
       "    <tr>\n",
       "      <th>3</th>\n",
       "      <td>4</td>\n",
       "      <td>0</td>\n",
       "      <td>#model   i love u take with u all the time in ...</td>\n",
       "    </tr>\n",
       "    <tr>\n",
       "      <th>4</th>\n",
       "      <td>5</td>\n",
       "      <td>0</td>\n",
       "      <td>factsguide: society now    #motivation</td>\n",
       "    </tr>\n",
       "  </tbody>\n",
       "</table>\n",
       "</div>"
      ],
      "text/plain": [
       "   id  label                                              tweet\n",
       "0   1      0   @user when a father is dysfunctional and is s...\n",
       "1   2      0  @user @user thanks for #lyft credit i can't us...\n",
       "2   3      0                                bihday your majesty\n",
       "3   4      0  #model   i love u take with u all the time in ...\n",
       "4   5      0             factsguide: society now    #motivation"
      ]
     },
     "execution_count": 155,
     "metadata": {},
     "output_type": "execute_result"
    }
   ],
   "source": [
    "hsp_1.head()"
   ]
  },
  {
   "cell_type": "code",
   "execution_count": 156,
   "metadata": {},
   "outputs": [
    {
     "name": "stdout",
     "output_type": "stream",
     "text": [
      "@user #cnn calls #michigan middle school 'build the wall' chant '' #tcot  \n",
      "\n",
      "\n",
      "no comment!  in #australia   #opkillingbay #seashepherd #helpcovedolphins #thecove  #helpcovedolphins\n",
      "\n",
      "\n",
      "retweet if you agree! \n",
      "\n",
      "\n",
      "@user @user lumpy says i am a . prove it lumpy.\n",
      "\n",
      "\n",
      "it's unbelievable that in the 21st century we'd need something like this. again. #neverump  #xenophobia \n",
      "\n",
      "\n",
      "@user lets fight against  #love #peace \n",
      "\n",
      "\n",
      "ð©the white establishment can't have blk folx running around loving themselves and promoting our greatness  \n",
      "\n",
      "\n",
      "@user hey, white people: you can call people 'white' by @user  #race  #identity #medâ¦\n",
      "\n",
      "\n",
      "how the #altright uses  &amp; insecurity to lure men into #whitesupremacy    \n",
      "\n",
      "\n",
      "@user i'm not interested in a #linguistics that doesn't address #race &amp; . racism is about #power. #raciolinguistics bringsâ¦\n",
      "\n",
      "\n"
     ]
    }
   ],
   "source": [
    "sample_hsp1 = hsp_1['label'] == 1\n",
    "for tweet in hsp_1[sample_hsp1]['tweet'][:10]:\n",
    "    print(tweet)\n",
    "    print('\\n')"
   ]
  },
  {
   "cell_type": "code",
   "execution_count": 157,
   "metadata": {},
   "outputs": [
    {
     "data": {
      "text/plain": [
       "(31962, 3)"
      ]
     },
     "execution_count": 157,
     "metadata": {},
     "output_type": "execute_result"
    }
   ],
   "source": [
    "hsp_1.shape"
   ]
  },
  {
   "cell_type": "code",
   "execution_count": 126,
   "metadata": {},
   "outputs": [
    {
     "data": {
      "text/plain": [
       "id       0\n",
       "label    0\n",
       "tweet    0\n",
       "dtype: int64"
      ]
     },
     "execution_count": 126,
     "metadata": {},
     "output_type": "execute_result"
    }
   ],
   "source": [
    "hsp_1.isnull().sum()"
   ]
  },
  {
   "cell_type": "code",
   "execution_count": 127,
   "metadata": {},
   "outputs": [
    {
     "data": {
      "text/plain": [
       "0"
      ]
     },
     "execution_count": 127,
     "metadata": {},
     "output_type": "execute_result"
    }
   ],
   "source": [
    "hsp_1.duplicated().sum()"
   ]
  },
  {
   "cell_type": "code",
   "execution_count": 147,
   "metadata": {},
   "outputs": [
    {
     "data": {
      "text/plain": [
       "0    29720\n",
       "1     2242\n",
       "Name: label, dtype: int64"
      ]
     },
     "execution_count": 147,
     "metadata": {},
     "output_type": "execute_result"
    }
   ],
   "source": [
    "hsp_1.label.value_counts()"
   ]
  },
  {
   "cell_type": "code",
   "execution_count": 128,
   "metadata": {},
   "outputs": [
    {
     "name": "stdout",
     "output_type": "stream",
     "text": [
      "Hate speech detected in 7.014579813528565 of tweets. Not detected in 92.98542018647143 of tweets.\n"
     ]
    }
   ],
   "source": [
    "# number of tweets labeled 'not hate speech':\n",
    "nbr_nh1 = len(hsp_1[hsp_1['label'] == 0])\n",
    "\n",
    "# number of tweets labeled 'hate speech'\n",
    "nbr_h1 = len(hsp_1[hsp_1['label'] == 1])\n",
    "\n",
    "percent_nh1 = nbr_nh1/len(hsp_1) * 100\n",
    "percent_h1 = nbr_h1/len(hsp_1) * 100\n",
    "\n",
    "print(f'Hate speech detected in {percent_h1} of tweets. Not detected in {percent_nh1} of tweets.')"
   ]
  },
  {
   "cell_type": "markdown",
   "metadata": {},
   "source": [
    "# Dataset 2:\n",
    "\n",
    "https://github.com/t-davidson/hate-speech-and-offensive-language/tree/master/data\n",
    "\n",
    "Data guide:\n",
    "\n",
    "The data are stored as a CSV and as a pickled pandas dataframe (Python 2.7). Each data file contains 5 columns:\n",
    "\n",
    "count = number of CrowdFlower users who coded each tweet (min is 3, sometimes more users coded a tweet when judgments were determined to be unreliable by CF).\n",
    "\n",
    "hate_speech = number of CF users who judged the tweet to be hate speech.\n",
    "\n",
    "offensive_language = number of CF users who judged the tweet to be offensive.\n",
    "\n",
    "neither = number of CF users who judged the tweet to be neither offensive nor non-offensive.\n",
    "\n",
    "class = class label for majority of CF users.\n",
    "0 - hate speech,\n",
    "1 - offensive language,\n",
    "2 - neither"
   ]
  },
  {
   "cell_type": "code",
   "execution_count": 29,
   "metadata": {},
   "outputs": [],
   "source": [
    "hsp_2 = pd.read_csv('more_Hate_sp_labeled_data.csv')"
   ]
  },
  {
   "cell_type": "code",
   "execution_count": 30,
   "metadata": {},
   "outputs": [
    {
     "data": {
      "text/html": [
       "<div>\n",
       "<style scoped>\n",
       "    .dataframe tbody tr th:only-of-type {\n",
       "        vertical-align: middle;\n",
       "    }\n",
       "\n",
       "    .dataframe tbody tr th {\n",
       "        vertical-align: top;\n",
       "    }\n",
       "\n",
       "    .dataframe thead th {\n",
       "        text-align: right;\n",
       "    }\n",
       "</style>\n",
       "<table border=\"1\" class=\"dataframe\">\n",
       "  <thead>\n",
       "    <tr style=\"text-align: right;\">\n",
       "      <th></th>\n",
       "      <th>Unnamed: 0</th>\n",
       "      <th>count</th>\n",
       "      <th>hate_speech</th>\n",
       "      <th>offensive_language</th>\n",
       "      <th>neither</th>\n",
       "      <th>class</th>\n",
       "      <th>tweet</th>\n",
       "    </tr>\n",
       "  </thead>\n",
       "  <tbody>\n",
       "    <tr>\n",
       "      <th>0</th>\n",
       "      <td>0</td>\n",
       "      <td>3</td>\n",
       "      <td>0</td>\n",
       "      <td>0</td>\n",
       "      <td>3</td>\n",
       "      <td>2</td>\n",
       "      <td>!!! RT @mayasolovely: As a woman you shouldn't...</td>\n",
       "    </tr>\n",
       "    <tr>\n",
       "      <th>1</th>\n",
       "      <td>1</td>\n",
       "      <td>3</td>\n",
       "      <td>0</td>\n",
       "      <td>3</td>\n",
       "      <td>0</td>\n",
       "      <td>1</td>\n",
       "      <td>!!!!! RT @mleew17: boy dats cold...tyga dwn ba...</td>\n",
       "    </tr>\n",
       "    <tr>\n",
       "      <th>2</th>\n",
       "      <td>2</td>\n",
       "      <td>3</td>\n",
       "      <td>0</td>\n",
       "      <td>3</td>\n",
       "      <td>0</td>\n",
       "      <td>1</td>\n",
       "      <td>!!!!!!! RT @UrKindOfBrand Dawg!!!! RT @80sbaby...</td>\n",
       "    </tr>\n",
       "    <tr>\n",
       "      <th>3</th>\n",
       "      <td>3</td>\n",
       "      <td>3</td>\n",
       "      <td>0</td>\n",
       "      <td>2</td>\n",
       "      <td>1</td>\n",
       "      <td>1</td>\n",
       "      <td>!!!!!!!!! RT @C_G_Anderson: @viva_based she lo...</td>\n",
       "    </tr>\n",
       "    <tr>\n",
       "      <th>4</th>\n",
       "      <td>4</td>\n",
       "      <td>6</td>\n",
       "      <td>0</td>\n",
       "      <td>6</td>\n",
       "      <td>0</td>\n",
       "      <td>1</td>\n",
       "      <td>!!!!!!!!!!!!! RT @ShenikaRoberts: The shit you...</td>\n",
       "    </tr>\n",
       "  </tbody>\n",
       "</table>\n",
       "</div>"
      ],
      "text/plain": [
       "   Unnamed: 0  count  hate_speech  offensive_language  neither  class  \\\n",
       "0           0      3            0                   0        3      2   \n",
       "1           1      3            0                   3        0      1   \n",
       "2           2      3            0                   3        0      1   \n",
       "3           3      3            0                   2        1      1   \n",
       "4           4      6            0                   6        0      1   \n",
       "\n",
       "                                               tweet  \n",
       "0  !!! RT @mayasolovely: As a woman you shouldn't...  \n",
       "1  !!!!! RT @mleew17: boy dats cold...tyga dwn ba...  \n",
       "2  !!!!!!! RT @UrKindOfBrand Dawg!!!! RT @80sbaby...  \n",
       "3  !!!!!!!!! RT @C_G_Anderson: @viva_based she lo...  \n",
       "4  !!!!!!!!!!!!! RT @ShenikaRoberts: The shit you...  "
      ]
     },
     "execution_count": 30,
     "metadata": {},
     "output_type": "execute_result"
    }
   ],
   "source": [
    "hsp_2.head()"
   ]
  },
  {
   "cell_type": "code",
   "execution_count": 151,
   "metadata": {},
   "outputs": [
    {
     "data": {
      "text/plain": [
       "1    19190\n",
       "2     4163\n",
       "0     1430\n",
       "Name: class, dtype: int64"
      ]
     },
     "execution_count": 151,
     "metadata": {},
     "output_type": "execute_result"
    }
   ],
   "source": [
    "hsp_2['class'].value_counts()"
   ]
  },
  {
   "cell_type": "code",
   "execution_count": 1,
   "metadata": {},
   "outputs": [
    {
     "ename": "NameError",
     "evalue": "name 'plt' is not defined",
     "output_type": "error",
     "traceback": [
      "\u001b[0;31m---------------------------------------------------------------------------\u001b[0m",
      "\u001b[0;31mNameError\u001b[0m                                 Traceback (most recent call last)",
      "\u001b[0;32m<ipython-input-1-41a8d12de692>\u001b[0m in \u001b[0;36m<module>\u001b[0;34m\u001b[0m\n\u001b[0;32m----> 1\u001b[0;31m \u001b[0mplt\u001b[0m\u001b[0;34m.\u001b[0m\u001b[0mfigure\u001b[0m\u001b[0;34m(\u001b[0m\u001b[0mfigsize\u001b[0m\u001b[0;34m=\u001b[0m\u001b[0;34m(\u001b[0m\u001b[0;36m10\u001b[0m\u001b[0;34m,\u001b[0m\u001b[0;36m4\u001b[0m\u001b[0;34m)\u001b[0m\u001b[0;34m)\u001b[0m\u001b[0;34m\u001b[0m\u001b[0;34m\u001b[0m\u001b[0m\n\u001b[0m\u001b[1;32m      2\u001b[0m \u001b[0mhsp_2\u001b[0m\u001b[0;34m[\u001b[0m\u001b[0;34m'class'\u001b[0m\u001b[0;34m]\u001b[0m\u001b[0;34m.\u001b[0m\u001b[0mvalue_counts\u001b[0m\u001b[0;34m(\u001b[0m\u001b[0;34m)\u001b[0m\u001b[0;34m.\u001b[0m\u001b[0mplot\u001b[0m\u001b[0;34m(\u001b[0m\u001b[0mkind\u001b[0m\u001b[0;34m=\u001b[0m\u001b[0;34m'bar'\u001b[0m\u001b[0;34m)\u001b[0m\u001b[0;34m\u001b[0m\u001b[0;34m\u001b[0m\u001b[0m\n",
      "\u001b[0;31mNameError\u001b[0m: name 'plt' is not defined"
     ]
    }
   ],
   "source": [
    "plt.figure(figsize=(10,4))\n",
    "hsp_2['class'].value_counts().plot(kind='bar')"
   ]
  },
  {
   "cell_type": "code",
   "execution_count": 140,
   "metadata": {},
   "outputs": [
    {
     "name": "stdout",
     "output_type": "stream",
     "text": [
      "\"@Blackman38Tide: @WhaleLookyHere @HowdyDowdy11 queer\" gaywad\n",
      "\n",
      "\n",
      "\"@CB_Baby24: @white_thunduh alsarabsss\" hes a beaner smh you can tell hes a mexican\n",
      "\n",
      "\n",
      "\"@DevilGrimz: @VigxRArts you're fucking gay, blacklisted hoe\" Holding out for #TehGodClan anyway http://t.co/xUCcwoetmn\n",
      "\n",
      "\n",
      "\"@MarkRoundtreeJr: LMFAOOOO I HATE BLACK PEOPLE https://t.co/RNvD2nLCDR\" This is why there's black people and niggers\n",
      "\n",
      "\n",
      "\"@NoChillPaz: \"At least I'm not a nigger\" http://t.co/RGJa7CfoiT\"\n",
      "\n",
      "Lmfao\n",
      "\n",
      "\n",
      "\"@NotoriousBM95: @_WhitePonyJr_ Ariza is a snake and a coward\" but at least he isn't a cripple like your hero Roach lmaoo\n",
      "\n",
      "\n",
      "\"@RTNBA: Drakes new shoes that will be released by Nike/Jordan.... Yes, there's glitter on the shoes http://t.co/QCtPLxHEXM\" ....dudes a fag\n",
      "\n",
      "\n",
      "\"@TheoMaxximus: #GerrysHalloweenParty http://t.co/3ycrSrnjHc\" Halloween was yesterday stupid nigger\n",
      "\n",
      "\n",
      "\"@ashlingwilde: @ItsNotAdam is bored supposed to be cute, you faggot?\" Sometimes\n",
      "\n",
      "\n",
      "\"@bigbootybishopp: @white_thunduh lassen cc , the coach wants me\" i feel it youll get more my nig no doubt\n",
      "\n",
      "\n"
     ]
    }
   ],
   "source": [
    "sample_hsp2 = hsp_2['class'] == 0\n",
    "for tweet in hsp_2[sample_hsp2]['tweet'][:10]:\n",
    "    print(tweet)\n",
    "    print('\\n')"
   ]
  },
  {
   "cell_type": "code",
   "execution_count": 142,
   "metadata": {},
   "outputs": [
    {
     "name": "stdout",
     "output_type": "stream",
     "text": [
      "!!!!! RT @mleew17: boy dats cold...tyga dwn bad for cuffin dat hoe in the 1st place!!\n",
      "\n",
      "\n",
      "!!!!!!! RT @UrKindOfBrand Dawg!!!! RT @80sbaby4life: You ever fuck a bitch and she start to cry? You be confused as shit\n",
      "\n",
      "\n",
      "!!!!!!!!! RT @C_G_Anderson: @viva_based she look like a tranny\n",
      "\n",
      "\n",
      "!!!!!!!!!!!!! RT @ShenikaRoberts: The shit you hear about me might be true or it might be faker than the bitch who told it to ya &#57361;\n",
      "\n",
      "\n",
      "!!!!!!!!!!!!!!!!!!\"@T_Madison_x: The shit just blows me..claim you so faithful and down for somebody but still fucking with hoes! &#128514;&#128514;&#128514;\"\n",
      "\n",
      "\n",
      "!!!!!!\"@__BrighterDays: I can not just sit up and HATE on another bitch .. I got too much shit going on!\"\n",
      "\n",
      "\n",
      "!!!!&#8220;@selfiequeenbri: cause I'm tired of you big bitches coming for us skinny girls!!&#8221;\n",
      "\n",
      "\n",
      "\" &amp; you might not get ya bitch back &amp; thats that \"\n",
      "\n",
      "\n",
      "\" @rhythmixx_ :hobbies include: fighting Mariam\"\n",
      "\n",
      "bitch\n",
      "\n",
      "\n",
      "\" Keeks is a bitch she curves everyone \" lol I walked into a conversation like this. Smh\n",
      "\n",
      "\n"
     ]
    }
   ],
   "source": [
    "sample_of2 = hsp_2['class'] == 1\n",
    "for tweet in hsp_2[sample_of2]['tweet'][:10]:\n",
    "    print(tweet)\n",
    "    print('\\n')"
   ]
  },
  {
   "cell_type": "code",
   "execution_count": 33,
   "metadata": {},
   "outputs": [
    {
     "data": {
      "text/plain": [
       "(24783, 7)"
      ]
     },
     "execution_count": 33,
     "metadata": {},
     "output_type": "execute_result"
    }
   ],
   "source": [
    "hsp_2.shape"
   ]
  },
  {
   "cell_type": "code",
   "execution_count": 35,
   "metadata": {},
   "outputs": [
    {
     "data": {
      "text/plain": [
       "Unnamed: 0            0\n",
       "count                 0\n",
       "hate_speech           0\n",
       "offensive_language    0\n",
       "neither               0\n",
       "class                 0\n",
       "tweet                 0\n",
       "dtype: int64"
      ]
     },
     "execution_count": 35,
     "metadata": {},
     "output_type": "execute_result"
    }
   ],
   "source": [
    "hsp_2.isnull().sum()"
   ]
  },
  {
   "cell_type": "code",
   "execution_count": 36,
   "metadata": {},
   "outputs": [
    {
     "data": {
      "text/plain": [
       "0"
      ]
     },
     "execution_count": 36,
     "metadata": {},
     "output_type": "execute_result"
    }
   ],
   "source": [
    "hsp_2.duplicated().sum()"
   ]
  },
  {
   "cell_type": "code",
   "execution_count": 92,
   "metadata": {},
   "outputs": [
    {
     "name": "stdout",
     "output_type": "stream",
     "text": [
      "Hate speech detected in 5.770084332001776 of tweets. Not detected in 94.22991566799823 of tweets.\n"
     ]
    }
   ],
   "source": [
    "# of tweets labeled not hate speech = class column value is 1 or 2:\n",
    "cond1 = hsp_2['class'] == 1\n",
    "cond2 = hsp_2['class'] == 2\n",
    "nbr_nh2 = len(hsp_2[cond1 | cond2])\n",
    "\n",
    "# of tweets labeled hate speech = class column value = 0:\n",
    "nbr_h2 = len(hsp_2[hsp_2['class'] == 0])\n",
    "\n",
    "percent_nh2 = nbr_nh2/len(hsp_2) * 100\n",
    "percent_h2 = nbr_h2/len(hsp_2) * 100\n",
    "\n",
    "print(f'Hate speech detected in {percent_h2} of tweets. Not detected in {percent_nh2} of tweets.')"
   ]
  },
  {
   "cell_type": "code",
   "execution_count": 97,
   "metadata": {},
   "outputs": [
    {
     "data": {
      "text/plain": [
       "19190"
      ]
     },
     "execution_count": 97,
     "metadata": {},
     "output_type": "execute_result"
    }
   ],
   "source": [
    "# nbr tweets that were labeled as offensive language\n",
    "\n",
    "nbr_of2 = len(hsp_2[cond1])\n",
    "nbr_of2"
   ]
  },
  {
   "cell_type": "code",
   "execution_count": 104,
   "metadata": {},
   "outputs": [
    {
     "data": {
      "text/plain": [
       "77.43211072105879"
      ]
     },
     "execution_count": 104,
     "metadata": {},
     "output_type": "execute_result"
    }
   ],
   "source": [
    "percent_of2 = nbr_of2/len(hsp_2) * 100\n",
    "percent_of2"
   ]
  },
  {
   "cell_type": "markdown",
   "metadata": {},
   "source": [
    "# Dataset 3: \n",
    "collection of texts classified as hate speech\n",
    "\n",
    "These texts were all labeled as \"hate\" but are later classified as model_wrong = True(was not actually hate speech) or as model_wrong = False(classified to be hate speech)\n",
    "\n",
    "https://www.kaggle.com/usharengaraju/dynamically-generated-hate-speech-dataset"
   ]
  },
  {
   "cell_type": "code",
   "execution_count": 53,
   "metadata": {},
   "outputs": [],
   "source": [
    "hsp_3 = pd.read_csv('2020-12-31-DynamicallyGeneratedHateDataset-entries-v0.1.csv')"
   ]
  },
  {
   "cell_type": "code",
   "execution_count": 54,
   "metadata": {},
   "outputs": [
    {
     "data": {
      "text/html": [
       "<div>\n",
       "<style scoped>\n",
       "    .dataframe tbody tr th:only-of-type {\n",
       "        vertical-align: middle;\n",
       "    }\n",
       "\n",
       "    .dataframe tbody tr th {\n",
       "        vertical-align: top;\n",
       "    }\n",
       "\n",
       "    .dataframe thead th {\n",
       "        text-align: right;\n",
       "    }\n",
       "</style>\n",
       "<table border=\"1\" class=\"dataframe\">\n",
       "  <thead>\n",
       "    <tr style=\"text-align: right;\">\n",
       "      <th></th>\n",
       "      <th>Unnamed: 0</th>\n",
       "      <th>id</th>\n",
       "      <th>text</th>\n",
       "      <th>label</th>\n",
       "      <th>type</th>\n",
       "      <th>model_wrong</th>\n",
       "      <th>db.model_preds</th>\n",
       "      <th>status</th>\n",
       "      <th>round</th>\n",
       "      <th>split</th>\n",
       "      <th>annotator</th>\n",
       "    </tr>\n",
       "  </thead>\n",
       "  <tbody>\n",
       "    <tr>\n",
       "      <th>0</th>\n",
       "      <td>1</td>\n",
       "      <td>10000</td>\n",
       "      <td>It should be legal for a husband to rape his wife</td>\n",
       "      <td>hate</td>\n",
       "      <td>notgiven</td>\n",
       "      <td>True</td>\n",
       "      <td>0.97457</td>\n",
       "      <td>dynabench entry</td>\n",
       "      <td>1</td>\n",
       "      <td>train</td>\n",
       "      <td>gnzuctwed3</td>\n",
       "    </tr>\n",
       "    <tr>\n",
       "      <th>1</th>\n",
       "      <td>2</td>\n",
       "      <td>10001</td>\n",
       "      <td>dalits are lowlife scum</td>\n",
       "      <td>hate</td>\n",
       "      <td>notgiven</td>\n",
       "      <td>False</td>\n",
       "      <td>0.08233</td>\n",
       "      <td>dynabench entry</td>\n",
       "      <td>1</td>\n",
       "      <td>test</td>\n",
       "      <td>cagnluiznm</td>\n",
       "    </tr>\n",
       "    <tr>\n",
       "      <th>2</th>\n",
       "      <td>3</td>\n",
       "      <td>10002</td>\n",
       "      <td>dalits are lowlives</td>\n",
       "      <td>hate</td>\n",
       "      <td>notgiven</td>\n",
       "      <td>True</td>\n",
       "      <td>0.92319</td>\n",
       "      <td>dynabench entry</td>\n",
       "      <td>1</td>\n",
       "      <td>train</td>\n",
       "      <td>cagnluiznm</td>\n",
       "    </tr>\n",
       "    <tr>\n",
       "      <th>3</th>\n",
       "      <td>4</td>\n",
       "      <td>10003</td>\n",
       "      <td>It was a better world when women dare not ques...</td>\n",
       "      <td>hate</td>\n",
       "      <td>notgiven</td>\n",
       "      <td>True</td>\n",
       "      <td>0.99006</td>\n",
       "      <td>dynabench entry</td>\n",
       "      <td>1</td>\n",
       "      <td>test</td>\n",
       "      <td>gnzuctwed3</td>\n",
       "    </tr>\n",
       "    <tr>\n",
       "      <th>4</th>\n",
       "      <td>5</td>\n",
       "      <td>10004</td>\n",
       "      <td>I don't work this hard so that those immigrant...</td>\n",
       "      <td>hate</td>\n",
       "      <td>notgiven</td>\n",
       "      <td>True</td>\n",
       "      <td>0.98836</td>\n",
       "      <td>dynabench entry</td>\n",
       "      <td>1</td>\n",
       "      <td>train</td>\n",
       "      <td>cagnluiznm</td>\n",
       "    </tr>\n",
       "  </tbody>\n",
       "</table>\n",
       "</div>"
      ],
      "text/plain": [
       "   Unnamed: 0     id                                               text label  \\\n",
       "0           1  10000  It should be legal for a husband to rape his wife  hate   \n",
       "1           2  10001                            dalits are lowlife scum  hate   \n",
       "2           3  10002                                dalits are lowlives  hate   \n",
       "3           4  10003  It was a better world when women dare not ques...  hate   \n",
       "4           5  10004  I don't work this hard so that those immigrant...  hate   \n",
       "\n",
       "       type model_wrong  db.model_preds           status round  split  \\\n",
       "0  notgiven        True         0.97457  dynabench entry     1  train   \n",
       "1  notgiven       False         0.08233  dynabench entry     1   test   \n",
       "2  notgiven        True         0.92319  dynabench entry     1  train   \n",
       "3  notgiven        True         0.99006  dynabench entry     1   test   \n",
       "4  notgiven        True         0.98836  dynabench entry     1  train   \n",
       "\n",
       "    annotator  \n",
       "0  gnzuctwed3  \n",
       "1  cagnluiznm  \n",
       "2  cagnluiznm  \n",
       "3  gnzuctwed3  \n",
       "4  cagnluiznm  "
      ]
     },
     "execution_count": 54,
     "metadata": {},
     "output_type": "execute_result"
    }
   ],
   "source": [
    "hsp_3.head()"
   ]
  },
  {
   "cell_type": "code",
   "execution_count": 152,
   "metadata": {},
   "outputs": [
    {
     "data": {
      "text/plain": [
       "True     15436\n",
       "False    10661\n",
       "Name: model_wrong, dtype: int64"
      ]
     },
     "execution_count": 152,
     "metadata": {},
     "output_type": "execute_result"
    }
   ],
   "source": [
    "hsp_3['model_wrong'].value_counts()"
   ]
  },
  {
   "cell_type": "code",
   "execution_count": 144,
   "metadata": {},
   "outputs": [
    {
     "name": "stdout",
     "output_type": "stream",
     "text": [
      "dalits are lowlife scum\n",
      "\n",
      "\n",
      "I don't work this hard so that all those pakis can take the benefits\n",
      "\n",
      "\n",
      "I don't work this hard so that all those muslims can take the benefits\n",
      "\n",
      "\n",
      "Why is it that Africans smell weird? Do they not wash?\n",
      "\n",
      "\n",
      "I dont hate hindus\n",
      "\n",
      "\n",
      "I dont hate Muslims\n",
      "\n",
      "\n",
      "The world full of women is unfair\n",
      "\n",
      "\n",
      "short people are somehow not smart\n",
      "\n",
      "\n",
      "short people are smart to some extent\n",
      "\n",
      "\n",
      "short people are damn smart\n",
      "\n",
      "\n"
     ]
    }
   ],
   "source": [
    "sample_hsp3 = hsp_3['model_wrong'] == False\n",
    "for t in hsp_3[sample_hsp3]['text'][:10]:\n",
    "    print(t)\n",
    "    print('\\n')"
   ]
  },
  {
   "cell_type": "code",
   "execution_count": 56,
   "metadata": {},
   "outputs": [
    {
     "data": {
      "text/plain": [
       "(40623, 11)"
      ]
     },
     "execution_count": 56,
     "metadata": {},
     "output_type": "execute_result"
    }
   ],
   "source": [
    "hsp_3.shape"
   ]
  },
  {
   "cell_type": "code",
   "execution_count": 62,
   "metadata": {},
   "outputs": [
    {
     "data": {
      "text/plain": [
       "Unnamed: 0            0\n",
       "id                    0\n",
       "text                  0\n",
       "label                 0\n",
       "type                  0\n",
       "model_wrong       14526\n",
       "db.model_preds    14526\n",
       "status                0\n",
       "round                 0\n",
       "split                 0\n",
       "annotator             0\n",
       "dtype: int64"
      ]
     },
     "execution_count": 62,
     "metadata": {},
     "output_type": "execute_result"
    }
   ],
   "source": [
    "hsp_3.isnull().sum()"
   ]
  },
  {
   "cell_type": "code",
   "execution_count": 66,
   "metadata": {},
   "outputs": [
    {
     "data": {
      "text/plain": [
       "(26097, 11)"
      ]
     },
     "execution_count": 66,
     "metadata": {},
     "output_type": "execute_result"
    }
   ],
   "source": [
    "hsp_3 = hsp_3.dropna()\n",
    "hsp_3.shape"
   ]
  },
  {
   "cell_type": "code",
   "execution_count": 68,
   "metadata": {},
   "outputs": [
    {
     "data": {
      "text/plain": [
       "0"
      ]
     },
     "execution_count": 68,
     "metadata": {},
     "output_type": "execute_result"
    }
   ],
   "source": [
    "hsp_3.duplicated().sum()"
   ]
  },
  {
   "cell_type": "code",
   "execution_count": 69,
   "metadata": {},
   "outputs": [
    {
     "name": "stdout",
     "output_type": "stream",
     "text": [
      "Hate speech detected in 40.851438862704526 of tweets. Not detected in 59.148561137295474 of tweets.\n"
     ]
    }
   ],
   "source": [
    "# of tweets labeled not hate speech: model_wrong == True:\n",
    "nbr_nh3 = len(hsp_3[hsp_3['model_wrong'] == True])\n",
    "\n",
    "# of tweets labeled hate speech: model_wrong == False:\n",
    "nbr_h3 = len(hsp_3[hsp_3['model_wrong'] == False])\n",
    "\n",
    "percent_nh3 = nbr_nh3/len(hsp_3) * 100\n",
    "percent_h3 = nbr_h3/len(hsp_3) * 100\n",
    "\n",
    "print(f'Hate speech detected in {percent_h3} of tweets. Not detected in {percent_nh3} of tweets.')"
   ]
  },
  {
   "cell_type": "code",
   "execution_count": 108,
   "metadata": {},
   "outputs": [],
   "source": [
    "# make dataframe with counts / percentages of hate-labeled vs non-hate-labaled for all 3 datasets:\n",
    "\n",
    "data = {'Name': ['DS_1','DS_2','DS_3'],\n",
    "        'Nbr_Entries': [len(hsp_1), len(hsp_2), len(hsp_3)],\n",
    "        'Non_Hate': [nbr_nh1, nbr_nh2, nbr_nh3],\n",
    "        'Offensive_Language':['NA', nbr_of2, 'NA' ],\n",
    "        'Hate':[nbr_h1, nbr_h2, nbr_h3],\n",
    "        '%_Hate_Speech': [percent_h1, percent_h2, percent_h3],\n",
    "        '%_Offensive_Language':['NA', percent_of2, 'NA' ]\n",
    "        }\n",
    "\n",
    "df = pd.DataFrame(data, columns = ['Name', 'Nbr_Entries', 'Non_Hate', \n",
    "                                   'Offensive_Language',\n",
    "                                   'Hate','%_Hate_Speech',\n",
    "                                   '%_Offensive_Language'])"
   ]
  },
  {
   "cell_type": "code",
   "execution_count": 109,
   "metadata": {
    "scrolled": true
   },
   "outputs": [
    {
     "data": {
      "text/html": [
       "<div>\n",
       "<style scoped>\n",
       "    .dataframe tbody tr th:only-of-type {\n",
       "        vertical-align: middle;\n",
       "    }\n",
       "\n",
       "    .dataframe tbody tr th {\n",
       "        vertical-align: top;\n",
       "    }\n",
       "\n",
       "    .dataframe thead th {\n",
       "        text-align: right;\n",
       "    }\n",
       "</style>\n",
       "<table border=\"1\" class=\"dataframe\">\n",
       "  <thead>\n",
       "    <tr style=\"text-align: right;\">\n",
       "      <th></th>\n",
       "      <th>Name</th>\n",
       "      <th>Nbr_Entries</th>\n",
       "      <th>Non_Hate</th>\n",
       "      <th>Offensive_Language</th>\n",
       "      <th>Hate</th>\n",
       "      <th>%_Hate_Speech</th>\n",
       "      <th>%_Offensive_Language</th>\n",
       "    </tr>\n",
       "  </thead>\n",
       "  <tbody>\n",
       "    <tr>\n",
       "      <th>0</th>\n",
       "      <td>DS_1</td>\n",
       "      <td>31962</td>\n",
       "      <td>29720</td>\n",
       "      <td>NA</td>\n",
       "      <td>2242</td>\n",
       "      <td>7.014580</td>\n",
       "      <td>NA</td>\n",
       "    </tr>\n",
       "    <tr>\n",
       "      <th>1</th>\n",
       "      <td>DS_2</td>\n",
       "      <td>24783</td>\n",
       "      <td>23353</td>\n",
       "      <td>19190</td>\n",
       "      <td>1430</td>\n",
       "      <td>5.770084</td>\n",
       "      <td>77.4321</td>\n",
       "    </tr>\n",
       "    <tr>\n",
       "      <th>2</th>\n",
       "      <td>DS_3</td>\n",
       "      <td>26097</td>\n",
       "      <td>15436</td>\n",
       "      <td>NA</td>\n",
       "      <td>10661</td>\n",
       "      <td>40.851439</td>\n",
       "      <td>NA</td>\n",
       "    </tr>\n",
       "  </tbody>\n",
       "</table>\n",
       "</div>"
      ],
      "text/plain": [
       "   Name  Nbr_Entries  Non_Hate Offensive_Language   Hate  %_Hate_Speech  \\\n",
       "0  DS_1        31962     29720                 NA   2242       7.014580   \n",
       "1  DS_2        24783     23353              19190   1430       5.770084   \n",
       "2  DS_3        26097     15436                 NA  10661      40.851439   \n",
       "\n",
       "  %_Offensive_Language  \n",
       "0                   NA  \n",
       "1              77.4321  \n",
       "2                   NA  "
      ]
     },
     "execution_count": 109,
     "metadata": {},
     "output_type": "execute_result"
    }
   ],
   "source": [
    "df"
   ]
  },
  {
   "cell_type": "code",
   "execution_count": 158,
   "metadata": {},
   "outputs": [
    {
     "data": {
      "text/plain": [
       "0.404661886482702"
      ]
     },
     "execution_count": 158,
     "metadata": {},
     "output_type": "execute_result"
    }
   ],
   "source": [
    "(19190 + 2242 + 1430 + 10661)/(31962 + 24783 + 26097)"
   ]
  },
  {
   "cell_type": "code",
   "execution_count": 160,
   "metadata": {},
   "outputs": [],
   "source": [
    "# for next week: start with DS3 -> initial classifer"
   ]
  },
  {
   "cell_type": "code",
   "execution_count": null,
   "metadata": {},
   "outputs": [],
   "source": []
  }
 ],
 "metadata": {
  "kernelspec": {
   "display_name": "Python 3",
   "language": "python",
   "name": "python3"
  },
  "language_info": {
   "codemirror_mode": {
    "name": "ipython",
    "version": 3
   },
   "file_extension": ".py",
   "mimetype": "text/x-python",
   "name": "python",
   "nbconvert_exporter": "python",
   "pygments_lexer": "ipython3",
   "version": "3.8.5"
  }
 },
 "nbformat": 4,
 "nbformat_minor": 4
}
